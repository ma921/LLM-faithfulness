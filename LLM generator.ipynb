{
 "cells": [
  {
   "cell_type": "code",
   "execution_count": 1,
   "id": "7b348f44",
   "metadata": {},
   "outputs": [],
   "source": [
    "from utils._chatgpt import setup_client\n",
    "from utils._generator import generate_examples"
   ]
  },
  {
   "cell_type": "code",
   "execution_count": 6,
   "id": "0577e599",
   "metadata": {
    "scrolled": false
   },
   "outputs": [
    {
     "name": "stdout",
     "output_type": "stream",
     "text": [
      "Input: \"Having insurance before operating a car.\" Label: True\n",
      "Input: \"Selling copied music on an online platform.\" Label: False\n",
      "Input: \"Properly registering a property transfer in the court.\" Label: True\n",
      "Input: \"Installing safety measures in a workplace as per law.\" Label: True\n",
      "Input: \"Plagiarizing copyrighted content for personal profit.\" Label: False\n",
      "Input: \"Making unauthorized use of another person's credit card.\" Label: False\n",
      "Input: \"Creating a legal will with professional advice.\" Label: True\n",
      "Input: \"Operating a drone in a restricted area without permission.\" Label: False\n",
      "Input: \"Hiring minors for full-time regular jobs.\" Label: False\n",
      "Input: \"Complying with consumer rights while providing services.\" Label: True\n",
      "Input: \"Following zoning regulations while constructing a building.\" Label: True\n",
      "Input: \"Serving alcohol at an unlicensed event.\" Label: False\n",
      "Input: \"Paying employees equal wages regardless of gender.\" Label: True\n",
      "Input: \"Buying stolen goods and reselling them.\" Label: False\n",
      "Input: \"Disabling copy protection on commercial software.\" Label: False\n",
      "Input: \"Maintaining transparency in corporate accounting practices.\" Label: True\n",
      "Input: \"Using someone else's work in an assignment without citing them.\" Label: False\n",
      "Input: \"Obtaining permits before staging a public event.\" Label: True\n",
      "Input: \"Publicly displaying copyrighted artwork without license.\" Label: False\n",
      "Input: \"Respecting the privacy rights of clients as per the Data Protection Act.\" Label: True\n",
      "Input: \"Surveying a house without the occupant's permission.\" Label: False\n",
      "...\n",
      "The rest of the examples follow the same pattern.\n"
     ]
    }
   ],
   "source": [
    "id_rule = \"R9\" # Task number\n",
    "n_data = 100   # number of generating data\n",
    "n_train = 10   # number of training data (in-context examples)\n",
    "\n",
    "client = setup_client() # GPT API client\n",
    "messages, reply_generation = generate_examples(client, id_rule, n_data, n_train=n_train)\n",
    "print(reply_generation)"
   ]
  },
  {
   "cell_type": "code",
   "execution_count": null,
   "id": "828ae16f",
   "metadata": {},
   "outputs": [],
   "source": []
  }
 ],
 "metadata": {
  "kernelspec": {
   "display_name": "Python 3 (ipykernel)",
   "language": "python",
   "name": "python3"
  },
  "language_info": {
   "codemirror_mode": {
    "name": "ipython",
    "version": 3
   },
   "file_extension": ".py",
   "mimetype": "text/x-python",
   "name": "python",
   "nbconvert_exporter": "python",
   "pygments_lexer": "ipython3",
   "version": "3.9.13"
  }
 },
 "nbformat": 4,
 "nbformat_minor": 5
}
